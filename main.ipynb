{
 "cells": [
  {
   "cell_type": "code",
   "execution_count": 11,
   "metadata": {},
   "outputs": [
    {
     "data": {
      "text/plain": [
       "'# inputs = gr.inputs.Textbox(lines=7, label=\"Chat with AI\")\\n# outputs = gr.outputs.Textbox(label=\"Reply\")\\n\\ndemo = gr.Interface(\\n    fn=chatbot, \\n    inputs=inputs, \\n    outputs=outputs, \\n    title=\"AI Chatbot\",\\n    description=\"Ask anything you want\",\\n    theme=\"compact\"\\n    )\\ndemo.launch()'"
      ]
     },
     "execution_count": 11,
     "metadata": {},
     "output_type": "execute_result"
    }
   ],
   "source": [
    "import openai\n",
    "import gradio as gr\n",
    "from dotenv import load_dotenv\n",
    "load_dotenv()\n",
    "import os\n",
    "\n",
    "openai_api_key = os.environ['OPENAI_API_KEY']\n",
    "openai.api_key = openai_api_key\n",
    "\n",
    "messages=[\n",
    "    {\n",
    "        \"role\": \"system\",\n",
    "        \"content\": \"You are a helpful assistant.\"\n",
    "    },\n",
    "    {\n",
    "        \"role\": \"user\", \n",
    "        \"content\": \"Hello, ChatGPT!\"\n",
    "    },\n",
    "]\n",
    "\n",
    "def chatbot(input):\n",
    "    if input:\n",
    "        messages.append({\n",
    "            \"role\": \"user\",\n",
    "            \"content\": \"input\"\n",
    "                         })\n",
    "        chat = openai.ChatCompletion.create(\n",
    "            model=\"gpt-3.5-turbo\",\n",
    "            messages=messages\n",
    "        )\n",
    "        reply = chat.choices[0].message.content\n",
    "        messages.append({\n",
    "            \"role\": \"assistant\",\n",
    "            \"content\": reply\n",
    "            })\n",
    "        return reply\n",
    "    \n",
    "'''# inputs = gr.inputs.Textbox(lines=7, label=\"Chat with AI\")\n",
    "# outputs = gr.outputs.Textbox(label=\"Reply\")\n",
    "\n",
    "demo = gr.Interface(\n",
    "    fn=chatbot, \n",
    "    inputs=inputs, \n",
    "    outputs=outputs, \n",
    "    title=\"AI Chatbot\",\n",
    "    description=\"Ask anything you want\",\n",
    "    theme=\"compact\"\n",
    "    )\n",
    "demo.launch()'''"
   ]
  },
  {
   "cell_type": "code",
   "execution_count": 12,
   "metadata": {},
   "outputs": [],
   "source": [
    "messages=[\n",
    "    {\n",
    "        \"role\": \"system\",\n",
    "        \"content\": \"You are a helpful assistant.\"\n",
    "    },\n",
    "    {\n",
    "        \"role\": \"user\", \n",
    "        \"content\": \"Hello, ChatGPT!\"\n",
    "    }\n",
    "]\n",
    "\n",
    "chat = openai.ChatCompletion.create(\n",
    "    model=\"gpt-3.5-turbo\",\n",
    "    messages=messages\n",
    ")\n",
    "reply = chat.choices[0].message.content\n",
    "print(reply)"
   ]
  },
  {
   "cell_type": "code",
   "execution_count": 14,
   "metadata": {},
   "outputs": [],
   "source": [
    "messages.append({\n",
    "    \"role\": \"assistant\",\n",
    "    \"content\": reply\n",
    "    })"
   ]
  },
  {
   "cell_type": "code",
   "execution_count": 16,
   "metadata": {},
   "outputs": [],
   "source": [
    "messages.append({\"role\": \"user\", \"content\": \"Who was the first person landed on the moon?\"})"
   ]
  },
  {
   "cell_type": "code",
   "execution_count": 17,
   "metadata": {},
   "outputs": [
    {
     "name": "stdout",
     "output_type": "stream",
     "text": [
      "The first person to land on the moon was American astronaut Neil Armstrong on July 20, 1969, as part of the Apollo 11 space mission.\n"
     ]
    }
   ],
   "source": [
    "chat = openai.ChatCompletion.create(\n",
    "    model=\"gpt-3.5-turbo\",\n",
    "    messages=messages\n",
    ")\n",
    "reply = chat.choices[0].message.content\n",
    "print(reply)"
   ]
  },
  {
   "cell_type": "code",
   "execution_count": null,
   "metadata": {},
   "outputs": [],
   "source": []
  }
 ],
 "metadata": {
  "kernelspec": {
   "display_name": "visual_dictionary",
   "language": "python",
   "name": "python3"
  },
  "language_info": {
   "codemirror_mode": {
    "name": "ipython",
    "version": 3
   },
   "file_extension": ".py",
   "mimetype": "text/x-python",
   "name": "python",
   "nbconvert_exporter": "python",
   "pygments_lexer": "ipython3",
   "version": "3.11.0"
  },
  "orig_nbformat": 4
 },
 "nbformat": 4,
 "nbformat_minor": 2
}
